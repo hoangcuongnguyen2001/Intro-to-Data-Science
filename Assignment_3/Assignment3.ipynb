{
  "nbformat": 4,
  "nbformat_minor": 0,
  "metadata": {
    "colab": {
      "name": "Assignment3.ipynb",
      "provenance": [],
      "collapsed_sections": [],
      "authorship_tag": "ABX9TyNxiwXUsJBc84AaMzTu/2tf",
      "include_colab_link": true
    },
    "kernelspec": {
      "name": "python3",
      "display_name": "Python 3"
    },
    "language_info": {
      "name": "python"
    }
  },
  "cells": [
    {
      "cell_type": "markdown",
      "metadata": {
        "id": "view-in-github",
        "colab_type": "text"
      },
      "source": [
        "<a href=\"https://colab.research.google.com/github/hoangcuongnguyen2001/Intro-to-Data-Science/blob/main/Assignment_3/Assignment3.ipynb\" target=\"_parent\"><img src=\"https://colab.research.google.com/assets/colab-badge.svg\" alt=\"Open In Colab\"/></a>"
      ]
    },
    {
      "cell_type": "code",
      "metadata": {
        "id": "fayE_R2Kuzlw",
        "colab": {
          "base_uri": "https://localhost:8080/",
          "height": 1000
        },
        "outputId": "a487c743-ef06-46c9-83ca-6d0d0f56fef3"
      },
      "source": [
        "import pandas as pd\n",
        "import numpy as np\n",
        "import matplotlib as mpl \n",
        "import matplotlib.pyplot as plt\n",
        "import seaborn as sns\n",
        "% matplotlib inline\n",
        "from scipy import stats\n",
        "from matplotlib.pyplot import figure\n",
        "\n",
        "\n",
        "\n",
        "df = pd.read_csv('https://raw.githubusercontent.com/hoangcuongnguyen2001/Intro-to-Data-Science/main/Assignment%203/Wine_Recognition.csv')\n",
        "print('The dataset has {} rows and {} columns'.format(df.shape[0], df.shape[1]))\n",
        "display(df.describe())\n",
        "print(df)\n",
        "first_df = df[df.duplicated()]\n",
        "print(first_df)\n",
        "\n",
        "df = df.drop_duplicates()\n",
        "display(df.describe())\n",
        "#Q1 = df.quantile(0.25)\n",
        "#Q3 = df.quantile(0.75)\n",
        "#IQR = Q3 - Q1\n",
        "#print(IQR)\n",
        "#df.boxplot(column =[ 'alcohol', 'fixed acidity', 'residual sugar'], grid = False)"
      ],
      "execution_count": null,
      "outputs": [
        {
          "output_type": "stream",
          "text": [
            "The dataset has 2000 rows and 12 columns\n"
          ],
          "name": "stdout"
        },
        {
          "output_type": "display_data",
          "data": {
            "text/html": [
              "<div>\n",
              "<style scoped>\n",
              "    .dataframe tbody tr th:only-of-type {\n",
              "        vertical-align: middle;\n",
              "    }\n",
              "\n",
              "    .dataframe tbody tr th {\n",
              "        vertical-align: top;\n",
              "    }\n",
              "\n",
              "    .dataframe thead th {\n",
              "        text-align: right;\n",
              "    }\n",
              "</style>\n",
              "<table border=\"1\" class=\"dataframe\">\n",
              "  <thead>\n",
              "    <tr style=\"text-align: right;\">\n",
              "      <th></th>\n",
              "      <th>fixed acidity</th>\n",
              "      <th>volatile acidity</th>\n",
              "      <th>citric acid</th>\n",
              "      <th>residual sugar</th>\n",
              "      <th>chlorides</th>\n",
              "      <th>free sulfur dioxide</th>\n",
              "      <th>total sulfur dioxide</th>\n",
              "      <th>density</th>\n",
              "      <th>pH</th>\n",
              "      <th>sulphates</th>\n",
              "      <th>alcohol</th>\n",
              "    </tr>\n",
              "  </thead>\n",
              "  <tbody>\n",
              "    <tr>\n",
              "      <th>count</th>\n",
              "      <td>2000.000000</td>\n",
              "      <td>2000.000000</td>\n",
              "      <td>2000.000000</td>\n",
              "      <td>2000.000000</td>\n",
              "      <td>2000.000000</td>\n",
              "      <td>2000.000000</td>\n",
              "      <td>2000.000000</td>\n",
              "      <td>2000.000000</td>\n",
              "      <td>2000.000000</td>\n",
              "      <td>2000.000000</td>\n",
              "      <td>2000.000000</td>\n",
              "    </tr>\n",
              "    <tr>\n",
              "      <th>mean</th>\n",
              "      <td>7.710800</td>\n",
              "      <td>0.390138</td>\n",
              "      <td>0.313860</td>\n",
              "      <td>4.486700</td>\n",
              "      <td>0.064325</td>\n",
              "      <td>25.981500</td>\n",
              "      <td>86.729250</td>\n",
              "      <td>0.995041</td>\n",
              "      <td>3.220795</td>\n",
              "      <td>0.569190</td>\n",
              "      <td>10.775650</td>\n",
              "    </tr>\n",
              "    <tr>\n",
              "      <th>std</th>\n",
              "      <td>1.713865</td>\n",
              "      <td>0.186798</td>\n",
              "      <td>0.157363</td>\n",
              "      <td>4.036863</td>\n",
              "      <td>0.036238</td>\n",
              "      <td>17.802658</td>\n",
              "      <td>55.969674</td>\n",
              "      <td>0.003180</td>\n",
              "      <td>0.162052</td>\n",
              "      <td>0.156603</td>\n",
              "      <td>1.240472</td>\n",
              "    </tr>\n",
              "    <tr>\n",
              "      <th>min</th>\n",
              "      <td>4.200000</td>\n",
              "      <td>0.085000</td>\n",
              "      <td>0.000000</td>\n",
              "      <td>0.700000</td>\n",
              "      <td>0.009000</td>\n",
              "      <td>1.000000</td>\n",
              "      <td>6.000000</td>\n",
              "      <td>0.987220</td>\n",
              "      <td>2.790000</td>\n",
              "      <td>0.220000</td>\n",
              "      <td>8.000000</td>\n",
              "    </tr>\n",
              "    <tr>\n",
              "      <th>25%</th>\n",
              "      <td>6.600000</td>\n",
              "      <td>0.250000</td>\n",
              "      <td>0.240000</td>\n",
              "      <td>2.000000</td>\n",
              "      <td>0.040000</td>\n",
              "      <td>12.000000</td>\n",
              "      <td>35.000000</td>\n",
              "      <td>0.992260</td>\n",
              "      <td>3.110000</td>\n",
              "      <td>0.460000</td>\n",
              "      <td>9.600000</td>\n",
              "    </tr>\n",
              "    <tr>\n",
              "      <th>50%</th>\n",
              "      <td>7.200000</td>\n",
              "      <td>0.340000</td>\n",
              "      <td>0.310000</td>\n",
              "      <td>2.600000</td>\n",
              "      <td>0.058000</td>\n",
              "      <td>23.000000</td>\n",
              "      <td>86.500000</td>\n",
              "      <td>0.995510</td>\n",
              "      <td>3.210000</td>\n",
              "      <td>0.550000</td>\n",
              "      <td>10.700000</td>\n",
              "    </tr>\n",
              "    <tr>\n",
              "      <th>75%</th>\n",
              "      <td>8.600000</td>\n",
              "      <td>0.500000</td>\n",
              "      <td>0.402500</td>\n",
              "      <td>6.000000</td>\n",
              "      <td>0.081000</td>\n",
              "      <td>36.000000</td>\n",
              "      <td>126.000000</td>\n",
              "      <td>0.997540</td>\n",
              "      <td>3.320000</td>\n",
              "      <td>0.650000</td>\n",
              "      <td>11.700000</td>\n",
              "    </tr>\n",
              "    <tr>\n",
              "      <th>max</th>\n",
              "      <td>15.900000</td>\n",
              "      <td>1.580000</td>\n",
              "      <td>1.230000</td>\n",
              "      <td>26.050000</td>\n",
              "      <td>0.422000</td>\n",
              "      <td>138.500000</td>\n",
              "      <td>294.000000</td>\n",
              "      <td>1.003200</td>\n",
              "      <td>3.900000</td>\n",
              "      <td>1.620000</td>\n",
              "      <td>14.900000</td>\n",
              "    </tr>\n",
              "  </tbody>\n",
              "</table>\n",
              "</div>"
            ],
            "text/plain": [
              "       fixed acidity  volatile acidity  ...    sulphates      alcohol\n",
              "count    2000.000000       2000.000000  ...  2000.000000  2000.000000\n",
              "mean        7.710800          0.390138  ...     0.569190    10.775650\n",
              "std         1.713865          0.186798  ...     0.156603     1.240472\n",
              "min         4.200000          0.085000  ...     0.220000     8.000000\n",
              "25%         6.600000          0.250000  ...     0.460000     9.600000\n",
              "50%         7.200000          0.340000  ...     0.550000    10.700000\n",
              "75%         8.600000          0.500000  ...     0.650000    11.700000\n",
              "max        15.900000          1.580000  ...     1.620000    14.900000\n",
              "\n",
              "[8 rows x 11 columns]"
            ]
          },
          "metadata": {
            "tags": []
          }
        },
        {
          "output_type": "stream",
          "text": [
            "      fixed acidity  volatile acidity  ...  alcohol  Wine Type\n",
            "0               7.5             0.530  ...     10.7          R\n",
            "1              11.1             0.180  ...     10.1          R\n",
            "2               8.3             0.705  ...     10.0          R\n",
            "3               7.4             0.670  ...      9.5          R\n",
            "4               8.4             0.650  ...      9.2          R\n",
            "...             ...               ...  ...      ...        ...\n",
            "1995            6.7             0.280  ...     11.0          W\n",
            "1996            8.0             0.370  ...     12.1          W\n",
            "1997            6.7             0.280  ...     11.0          W\n",
            "1998            6.0             0.260  ...     12.8          W\n",
            "1999            6.4             0.240  ...     10.5          W\n",
            "\n",
            "[2000 rows x 12 columns]\n",
            "      fixed acidity  volatile acidity  ...  alcohol  Wine Type\n",
            "10             10.3              0.53  ...      9.3          R\n",
            "19              9.6              0.77  ...     10.4          R\n",
            "20              9.8              0.66  ...     11.5          R\n",
            "25             10.0              0.49  ...      9.2          R\n",
            "31             10.2              0.36  ...     12.5          R\n",
            "...             ...               ...  ...      ...        ...\n",
            "1987            6.8              0.11  ...      9.9          W\n",
            "1990            6.8              0.11  ...      9.9          W\n",
            "1991            7.3              0.23  ...      9.4          W\n",
            "1995            6.7              0.28  ...     11.0          W\n",
            "1997            6.7              0.28  ...     11.0          W\n",
            "\n",
            "[383 rows x 12 columns]\n"
          ],
          "name": "stdout"
        },
        {
          "output_type": "display_data",
          "data": {
            "text/html": [
              "<div>\n",
              "<style scoped>\n",
              "    .dataframe tbody tr th:only-of-type {\n",
              "        vertical-align: middle;\n",
              "    }\n",
              "\n",
              "    .dataframe tbody tr th {\n",
              "        vertical-align: top;\n",
              "    }\n",
              "\n",
              "    .dataframe thead th {\n",
              "        text-align: right;\n",
              "    }\n",
              "</style>\n",
              "<table border=\"1\" class=\"dataframe\">\n",
              "  <thead>\n",
              "    <tr style=\"text-align: right;\">\n",
              "      <th></th>\n",
              "      <th>fixed acidity</th>\n",
              "      <th>volatile acidity</th>\n",
              "      <th>citric acid</th>\n",
              "      <th>residual sugar</th>\n",
              "      <th>chlorides</th>\n",
              "      <th>free sulfur dioxide</th>\n",
              "      <th>total sulfur dioxide</th>\n",
              "      <th>density</th>\n",
              "      <th>pH</th>\n",
              "      <th>sulphates</th>\n",
              "      <th>alcohol</th>\n",
              "    </tr>\n",
              "  </thead>\n",
              "  <tbody>\n",
              "    <tr>\n",
              "      <th>count</th>\n",
              "      <td>1617.000000</td>\n",
              "      <td>1617.000000</td>\n",
              "      <td>1617.000000</td>\n",
              "      <td>1617.000000</td>\n",
              "      <td>1617.000000</td>\n",
              "      <td>1617.000000</td>\n",
              "      <td>1617.000000</td>\n",
              "      <td>1617.000000</td>\n",
              "      <td>1617.000000</td>\n",
              "      <td>1617.000000</td>\n",
              "      <td>1617.000000</td>\n",
              "    </tr>\n",
              "    <tr>\n",
              "      <th>mean</th>\n",
              "      <td>7.756586</td>\n",
              "      <td>0.395671</td>\n",
              "      <td>0.315022</td>\n",
              "      <td>4.142888</td>\n",
              "      <td>0.065569</td>\n",
              "      <td>25.343228</td>\n",
              "      <td>84.163884</td>\n",
              "      <td>0.994950</td>\n",
              "      <td>3.225609</td>\n",
              "      <td>0.573915</td>\n",
              "      <td>10.831354</td>\n",
              "    </tr>\n",
              "    <tr>\n",
              "      <th>std</th>\n",
              "      <td>1.740809</td>\n",
              "      <td>0.190222</td>\n",
              "      <td>0.160729</td>\n",
              "      <td>3.674701</td>\n",
              "      <td>0.038149</td>\n",
              "      <td>17.579892</td>\n",
              "      <td>55.140931</td>\n",
              "      <td>0.003185</td>\n",
              "      <td>0.160955</td>\n",
              "      <td>0.159505</td>\n",
              "      <td>1.239645</td>\n",
              "    </tr>\n",
              "    <tr>\n",
              "      <th>min</th>\n",
              "      <td>4.200000</td>\n",
              "      <td>0.085000</td>\n",
              "      <td>0.000000</td>\n",
              "      <td>0.700000</td>\n",
              "      <td>0.009000</td>\n",
              "      <td>1.000000</td>\n",
              "      <td>6.000000</td>\n",
              "      <td>0.987220</td>\n",
              "      <td>2.790000</td>\n",
              "      <td>0.220000</td>\n",
              "      <td>8.000000</td>\n",
              "    </tr>\n",
              "    <tr>\n",
              "      <th>25%</th>\n",
              "      <td>6.600000</td>\n",
              "      <td>0.250000</td>\n",
              "      <td>0.230000</td>\n",
              "      <td>1.900000</td>\n",
              "      <td>0.040000</td>\n",
              "      <td>11.000000</td>\n",
              "      <td>33.000000</td>\n",
              "      <td>0.992200</td>\n",
              "      <td>3.120000</td>\n",
              "      <td>0.470000</td>\n",
              "      <td>9.700000</td>\n",
              "    </tr>\n",
              "    <tr>\n",
              "      <th>50%</th>\n",
              "      <td>7.200000</td>\n",
              "      <td>0.350000</td>\n",
              "      <td>0.310000</td>\n",
              "      <td>2.500000</td>\n",
              "      <td>0.060000</td>\n",
              "      <td>23.000000</td>\n",
              "      <td>84.000000</td>\n",
              "      <td>0.995440</td>\n",
              "      <td>3.220000</td>\n",
              "      <td>0.560000</td>\n",
              "      <td>10.800000</td>\n",
              "    </tr>\n",
              "    <tr>\n",
              "      <th>75%</th>\n",
              "      <td>8.700000</td>\n",
              "      <td>0.510000</td>\n",
              "      <td>0.410000</td>\n",
              "      <td>5.000000</td>\n",
              "      <td>0.082000</td>\n",
              "      <td>35.000000</td>\n",
              "      <td>123.000000</td>\n",
              "      <td>0.997440</td>\n",
              "      <td>3.330000</td>\n",
              "      <td>0.650000</td>\n",
              "      <td>11.800000</td>\n",
              "    </tr>\n",
              "    <tr>\n",
              "      <th>max</th>\n",
              "      <td>15.900000</td>\n",
              "      <td>1.580000</td>\n",
              "      <td>1.230000</td>\n",
              "      <td>26.050000</td>\n",
              "      <td>0.422000</td>\n",
              "      <td>138.500000</td>\n",
              "      <td>294.000000</td>\n",
              "      <td>1.003200</td>\n",
              "      <td>3.900000</td>\n",
              "      <td>1.620000</td>\n",
              "      <td>14.900000</td>\n",
              "    </tr>\n",
              "  </tbody>\n",
              "</table>\n",
              "</div>"
            ],
            "text/plain": [
              "       fixed acidity  volatile acidity  ...    sulphates      alcohol\n",
              "count    1617.000000       1617.000000  ...  1617.000000  1617.000000\n",
              "mean        7.756586          0.395671  ...     0.573915    10.831354\n",
              "std         1.740809          0.190222  ...     0.159505     1.239645\n",
              "min         4.200000          0.085000  ...     0.220000     8.000000\n",
              "25%         6.600000          0.250000  ...     0.470000     9.700000\n",
              "50%         7.200000          0.350000  ...     0.560000    10.800000\n",
              "75%         8.700000          0.510000  ...     0.650000    11.800000\n",
              "max        15.900000          1.580000  ...     1.620000    14.900000\n",
              "\n",
              "[8 rows x 11 columns]"
            ]
          },
          "metadata": {
            "tags": []
          }
        }
      ]
    },
    {
      "cell_type": "code",
      "metadata": {
        "colab": {
          "base_uri": "https://localhost:8080/",
          "height": 314
        },
        "id": "dnrimwqy1TRD",
        "outputId": "1e8347d3-9491-4faf-9470-c53a678aa706"
      },
      "source": [
        "#print(df < (Q1 - 1.5 * IQR)) or (df > (Q3 + 1.5 * IQR))\n",
        "\n",
        "continuous = df.iloc[:, 0:11].values\n",
        "categorical = df.iloc[:, 11].values\n",
        "\n",
        "new_df = df[(np.abs(stats.zscore(continuous)) < 3).all(axis=1)]\n",
        "new_df.describe()"
      ],
      "execution_count": null,
      "outputs": [
        {
          "output_type": "execute_result",
          "data": {
            "text/html": [
              "<div>\n",
              "<style scoped>\n",
              "    .dataframe tbody tr th:only-of-type {\n",
              "        vertical-align: middle;\n",
              "    }\n",
              "\n",
              "    .dataframe tbody tr th {\n",
              "        vertical-align: top;\n",
              "    }\n",
              "\n",
              "    .dataframe thead th {\n",
              "        text-align: right;\n",
              "    }\n",
              "</style>\n",
              "<table border=\"1\" class=\"dataframe\">\n",
              "  <thead>\n",
              "    <tr style=\"text-align: right;\">\n",
              "      <th></th>\n",
              "      <th>fixed acidity</th>\n",
              "      <th>volatile acidity</th>\n",
              "      <th>citric acid</th>\n",
              "      <th>residual sugar</th>\n",
              "      <th>chlorides</th>\n",
              "      <th>free sulfur dioxide</th>\n",
              "      <th>total sulfur dioxide</th>\n",
              "      <th>density</th>\n",
              "      <th>pH</th>\n",
              "      <th>sulphates</th>\n",
              "      <th>alcohol</th>\n",
              "    </tr>\n",
              "  </thead>\n",
              "  <tbody>\n",
              "    <tr>\n",
              "      <th>count</th>\n",
              "      <td>1487.000000</td>\n",
              "      <td>1487.000000</td>\n",
              "      <td>1487.000000</td>\n",
              "      <td>1487.000000</td>\n",
              "      <td>1487.000000</td>\n",
              "      <td>1487.000000</td>\n",
              "      <td>1487.000000</td>\n",
              "      <td>1487.000000</td>\n",
              "      <td>1487.000000</td>\n",
              "      <td>1487.000000</td>\n",
              "      <td>1487.000000</td>\n",
              "    </tr>\n",
              "    <tr>\n",
              "      <th>mean</th>\n",
              "      <td>7.706321</td>\n",
              "      <td>0.391009</td>\n",
              "      <td>0.308110</td>\n",
              "      <td>3.831473</td>\n",
              "      <td>0.062387</td>\n",
              "      <td>24.693679</td>\n",
              "      <td>82.702757</td>\n",
              "      <td>0.994728</td>\n",
              "      <td>3.229106</td>\n",
              "      <td>0.566207</td>\n",
              "      <td>10.885945</td>\n",
              "    </tr>\n",
              "    <tr>\n",
              "      <th>std</th>\n",
              "      <td>1.632757</td>\n",
              "      <td>0.179735</td>\n",
              "      <td>0.151742</td>\n",
              "      <td>3.061876</td>\n",
              "      <td>0.027521</td>\n",
              "      <td>15.947133</td>\n",
              "      <td>52.963185</td>\n",
              "      <td>0.003115</td>\n",
              "      <td>0.155155</td>\n",
              "      <td>0.144231</td>\n",
              "      <td>1.219656</td>\n",
              "    </tr>\n",
              "    <tr>\n",
              "      <th>min</th>\n",
              "      <td>4.200000</td>\n",
              "      <td>0.085000</td>\n",
              "      <td>0.000000</td>\n",
              "      <td>0.700000</td>\n",
              "      <td>0.009000</td>\n",
              "      <td>1.000000</td>\n",
              "      <td>6.000000</td>\n",
              "      <td>0.987220</td>\n",
              "      <td>2.790000</td>\n",
              "      <td>0.220000</td>\n",
              "      <td>8.000000</td>\n",
              "    </tr>\n",
              "    <tr>\n",
              "      <th>25%</th>\n",
              "      <td>6.600000</td>\n",
              "      <td>0.250000</td>\n",
              "      <td>0.230000</td>\n",
              "      <td>1.900000</td>\n",
              "      <td>0.040000</td>\n",
              "      <td>11.000000</td>\n",
              "      <td>33.000000</td>\n",
              "      <td>0.992000</td>\n",
              "      <td>3.120000</td>\n",
              "      <td>0.470000</td>\n",
              "      <td>9.800000</td>\n",
              "    </tr>\n",
              "    <tr>\n",
              "      <th>50%</th>\n",
              "      <td>7.200000</td>\n",
              "      <td>0.350000</td>\n",
              "      <td>0.310000</td>\n",
              "      <td>2.500000</td>\n",
              "      <td>0.059000</td>\n",
              "      <td>23.000000</td>\n",
              "      <td>82.000000</td>\n",
              "      <td>0.995230</td>\n",
              "      <td>3.220000</td>\n",
              "      <td>0.550000</td>\n",
              "      <td>10.800000</td>\n",
              "    </tr>\n",
              "    <tr>\n",
              "      <th>75%</th>\n",
              "      <td>8.700000</td>\n",
              "      <td>0.510000</td>\n",
              "      <td>0.400000</td>\n",
              "      <td>4.800000</td>\n",
              "      <td>0.081000</td>\n",
              "      <td>35.000000</td>\n",
              "      <td>121.000000</td>\n",
              "      <td>0.997250</td>\n",
              "      <td>3.330000</td>\n",
              "      <td>0.650000</td>\n",
              "      <td>11.800000</td>\n",
              "    </tr>\n",
              "    <tr>\n",
              "      <th>max</th>\n",
              "      <td>12.900000</td>\n",
              "      <td>0.965000</td>\n",
              "      <td>0.760000</td>\n",
              "      <td>15.100000</td>\n",
              "      <td>0.178000</td>\n",
              "      <td>78.000000</td>\n",
              "      <td>248.000000</td>\n",
              "      <td>1.002890</td>\n",
              "      <td>3.700000</td>\n",
              "      <td>1.050000</td>\n",
              "      <td>14.200000</td>\n",
              "    </tr>\n",
              "  </tbody>\n",
              "</table>\n",
              "</div>"
            ],
            "text/plain": [
              "       fixed acidity  volatile acidity  ...    sulphates      alcohol\n",
              "count    1487.000000       1487.000000  ...  1487.000000  1487.000000\n",
              "mean        7.706321          0.391009  ...     0.566207    10.885945\n",
              "std         1.632757          0.179735  ...     0.144231     1.219656\n",
              "min         4.200000          0.085000  ...     0.220000     8.000000\n",
              "25%         6.600000          0.250000  ...     0.470000     9.800000\n",
              "50%         7.200000          0.350000  ...     0.550000    10.800000\n",
              "75%         8.700000          0.510000  ...     0.650000    11.800000\n",
              "max        12.900000          0.965000  ...     1.050000    14.200000\n",
              "\n",
              "[8 rows x 11 columns]"
            ]
          },
          "metadata": {
            "tags": []
          },
          "execution_count": 2
        }
      ]
    },
    {
      "cell_type": "code",
      "metadata": {
        "colab": {
          "base_uri": "https://localhost:8080/",
          "height": 1000
        },
        "id": "DtT77hw8BndC",
        "outputId": "0685f682-9b84-46bd-9577-fa8758b5010f"
      },
      "source": [
        "def cm_to_inch(value):\n",
        "    return value/2.54\n",
        "\n",
        "\n",
        "plt.figure(figsize=(cm_to_inch(50), cm_to_inch(20)))\n",
        "\n",
        "#plt.boxplot(df[\"density\"])\n",
        "#plt.xticks([1], [\"Density\"])\n",
        "#plt.show()\n",
        "\n",
        "plt.boxplot([df['volatile acidity'],df['citric acid'],df.sulphates, df.pH] , labels = ['Volatile acidity', 'Citric acid','Sulphates', 'pH'])\n",
        "plt.show()\n",
        "\n",
        "plt.boxplot([df['fixed acidity'],df['residual sugar'],df.alcohol] , labels = ['Fixed acidity', 'Residual sugar' , 'Alcohol'])\n",
        "plt.show()\n",
        "\n",
        "plt.boxplot([df['free sulfur dioxide'], df['total sulfur dioxide']], labels = ['Free sulfur dioxide', 'Total sulfur dioxide'])\n",
        "plt.show()\n",
        "\n",
        "plt.boxplot(df.chlorides, labels=[\"chlorides\"])\n",
        "plt.show()"
      ],
      "execution_count": null,
      "outputs": [
        {
          "output_type": "display_data",
          "data": {
            "image/png": "[encoded data removed]",
            "text/plain": [
              "<Figure size 1417.32x566.929 with 1 Axes>"
            ]
          },
          "metadata": {
            "tags": [],
            "needs_background": "light"
          }
        },
        {
          "output_type": "display_data",
          "data": {
            "image/png": "[encoded data removed]",
            "text/plain": [
              "<Figure size 432x288 with 1 Axes>"
            ]
          },
          "metadata": {
            "tags": [],
            "needs_background": "light"
          }
        },
        {
          "output_type": "display_data",
          "data": {
            "image/png": "[encoded data removed]",
            "text/plain": [
              "<Figure size 432x288 with 1 Axes>"
            ]
          },
          "metadata": {
            "tags": [],
            "needs_background": "light"
          }
        },
        {
          "output_type": "display_data",
          "data": {
            "image/png": "[encoded data removed]",
            "text/plain": [
              "<Figure size 432x288 with 1 Axes>"
            ]
          },
          "metadata": {
            "tags": [],
            "needs_background": "light"
          }
        }
      ]
    },
    {
      "cell_type": "code",
      "metadata": {
        "colab": {
          "base_uri": "https://localhost:8080/",
          "height": 511
        },
        "id": "nMIYtH6F8r0U",
        "outputId": "d310f62e-7c08-4245-b2e5-c0650fde0ea7"
      },
      "source": [
        "figure(figsize=(8, 6), dpi=80)\n",
        "corrMatrix = new_df.corr()\n",
        "sns.heatmap(corrMatrix, annot=True)\n",
        "plt.show()"
      ],
      "execution_count": null,
      "outputs": [
        {
          "output_type": "display_data",
          "data": {
            "image/png": "[encoded data removed]",
            "text/plain": [
              "<Figure size 640x480 with 2 Axes>"
            ]
          },
          "metadata": {
            "tags": [],
            "needs_background": "light"
          }
        }
      ]
    },
    {
      "cell_type": "code",
      "metadata": {
        "colab": {
          "base_uri": "https://localhost:8080/"
        },
        "id": "H5FXvySX3Yi3",
        "outputId": "f6f5a7ce-1912-493a-ebcf-65c6552d3092"
      },
      "source": [
        "df.select_dtypes(include=['float','object']).dtypes"
      ],
      "execution_count": null,
      "outputs": [
        {
          "output_type": "execute_result",
          "data": {
            "text/plain": [
              "fixed acidity           float64\n",
              "volatile acidity        float64\n",
              "citric acid             float64\n",
              "residual sugar          float64\n",
              "chlorides               float64\n",
              "free sulfur dioxide     float64\n",
              "total sulfur dioxide    float64\n",
              "density                 float64\n",
              "pH                      float64\n",
              "sulphates               float64\n",
              "alcohol                 float64\n",
              "Wine Type                object\n",
              "dtype: object"
            ]
          },
          "metadata": {
            "tags": []
          },
          "execution_count": 5
        }
      ]
    },
    {
      "cell_type": "code",
      "metadata": {
        "colab": {
          "base_uri": "https://localhost:8080/"
        },
        "id": "i-8OQ2aa135T",
        "outputId": "26e50c99-c34a-43cd-911a-d5c4a895cd59"
      },
      "source": [
        "X = new_df.iloc[:, 0:11].values\n",
        "Y = new_df.iloc[:, 11].values\n",
        "\n",
        "from sklearn.preprocessing import LabelEncoder\n",
        "\n",
        "le = LabelEncoder()\n",
        "Y = np.array(le.fit_transform(Y))\n",
        "Y.reshape(len(Y), 1)\n",
        "\n"
      ],
      "execution_count": null,
      "outputs": [
        {
          "output_type": "execute_result",
          "data": {
            "text/plain": [
              "array([[0],\n",
              "       [0],\n",
              "       [0],\n",
              "       ...,\n",
              "       [1],\n",
              "       [1],\n",
              "       [1]])"
            ]
          },
          "metadata": {
            "tags": []
          },
          "execution_count": 6
        }
      ]
    },
    {
      "cell_type": "code",
      "metadata": {
        "id": "XGAaNK0L-TEH",
        "colab": {
          "base_uri": "https://localhost:8080/"
        },
        "outputId": "37a51278-195f-4f69-bca7-7814b8b1aba8"
      },
      "source": [
        "from sklearn.model_selection import train_test_split\n",
        "\n",
        "X_train, X_test, Y_train, Y_test = train_test_split(X, Y, test_size = 0.5, shuffle= True,random_state = 1)\n",
        "first_X = X_train.copy()\n",
        "first_Y = Y_train.copy()\n",
        "first_X_train, first_X_test, first_Y_train, first_Y_test = train_test_split(first_X, first_Y, test_size = 0.2,shuffle = True, random_state = 1)\n",
        "new_X = X_test.copy()\n",
        "new_Y = Y_test.copy()\n",
        "second_X_train,second_X_test,second_Y_train,second_Y_test = train_test_split(new_X,new_Y,test_size = 0.2,shuffle = True, random_state = 1 )\n",
        "print(first_X_train.shape[0])\n",
        "print(first_X_test.shape[0])\n",
        "print(second_X_train.shape[0])\n",
        "print(second_X_test.shape[0])\n"
      ],
      "execution_count": null,
      "outputs": [
        {
          "output_type": "stream",
          "text": [
            "594\n",
            "149\n",
            "595\n",
            "149\n"
          ],
          "name": "stdout"
        }
      ]
    },
    {
      "cell_type": "code",
      "metadata": {
        "id": "W8Oyn-t6EOO_",
        "colab": {
          "base_uri": "https://localhost:8080/"
        },
        "outputId": "e7d709fd-ac79-4ea0-cc7d-b260978ae9da"
      },
      "source": [
        "\n",
        "from sklearn.preprocessing import StandardScaler\n",
        "\n",
        "sc = StandardScaler()\n",
        "first_X_train = sc.fit_transform(first_X_train)\n",
        "first_X_test = sc.fit_transform(first_X_test)\n",
        "\n",
        "second_X_train = sc.fit_transform(second_X_train)\n",
        "second_X_test = sc.fit_transform(second_X_test)\n",
        "\n",
        "\n",
        "#calculating for first test.\n",
        "accuracy = dict()\n",
        "precision = dict()\n",
        "from sklearn.linear_model import LogisticRegression\n",
        "\n",
        "\n",
        "\n",
        "first_test = LogisticRegression(random_state = None)\n",
        "first_test.fit(first_X_train, first_Y_train)\n",
        "\n",
        "\n",
        "result = first_test.predict(first_X_train)\n",
        "first_Y_result = first_test.predict(first_X_test)\n",
        "\n",
        "from sklearn.metrics import confusion_matrix\n",
        "tn1,fp1,fn1,tp1 = confusion_matrix(first_Y_test, first_Y_result).ravel()\n",
        "print('True negative = ', tn1)\n",
        "print('False positive = ', fp1)\n",
        "print('False negative = ', fn1)\n",
        "print('True positive = ', tp1)\n",
        "unique, counts = np.unique(first_Y_result, return_counts=True)\n",
        "dict(zip(unique, counts))\n",
        "\n",
        "\n",
        "\n"
      ],
      "execution_count": null,
      "outputs": [
        {
          "output_type": "stream",
          "text": [
            "True negative =  70\n",
            "False positive =  1\n",
            "False negative =  0\n",
            "True positive =  78\n"
          ],
          "name": "stdout"
        },
        {
          "output_type": "execute_result",
          "data": {
            "text/plain": [
              "{0: 70, 1: 79}"
            ]
          },
          "metadata": {
            "tags": []
          },
          "execution_count": 27
        }
      ]
    },
    {
      "cell_type": "code",
      "metadata": {
        "colab": {
          "base_uri": "https://localhost:8080/"
        },
        "id": "Z2TDg8SOeCXs",
        "outputId": "636ffd19-7208-45aa-9eec-1cea847e3ff2"
      },
      "source": [
        "new_result = le.inverse_transform(result)\n",
        "tn3,fp3,fn3,tp3 = confusion_matrix(first_Y_train, result).ravel()\n",
        "print('True negative = ', tn3)\n",
        "print('False positive = ', fp3)\n",
        "print('False negative = ', fn3)\n",
        "print('True positive = ', tp3)\n",
        "unique, counts = np.unique(result, return_counts=True)\n",
        "print(dict(zip(unique, counts)))\n",
        "from sklearn.metrics import classification_report\n",
        "report = classification_report(first_Y_test, first_Y_result)\n",
        "print(report)\n",
        "Specificity = tn3/(tn3+fp3)\n",
        "print(\"Specificity (True negative rate) is : {:0.2f}\".format(Specificity))\n",
        "FalsePositive3 = fp3/(tn3+fp3)\n",
        "print(\"False positive rate is : {:0.2f}\".format(FalsePositive3))\n",
        "FalseNegative3 = fn3/(fn3+tp3)\n",
        "print(\"False negative rate is : {:0.2f}\".format(FalseNegative3))"
      ],
      "execution_count": null,
      "outputs": [
        {
          "output_type": "stream",
          "text": [
            "True negative =  307\n",
            "False positive =  4\n",
            "False negative =  2\n",
            "True positive =  281\n",
            "{0: 309, 1: 285}\n",
            "              precision    recall  f1-score   support\n",
            "\n",
            "           0       1.00      0.99      0.99        71\n",
            "           1       0.99      1.00      0.99        78\n",
            "\n",
            "    accuracy                           0.99       149\n",
            "   macro avg       0.99      0.99      0.99       149\n",
            "weighted avg       0.99      0.99      0.99       149\n",
            "\n",
            "Specificity (True negative rate) is : 0.99\n",
            "False positive rate is : 0.01\n",
            "False negative rate is : 0.01\n"
          ],
          "name": "stdout"
        }
      ]
    },
    {
      "cell_type": "code",
      "metadata": {
        "colab": {
          "base_uri": "https://localhost:8080/"
        },
        "id": "mVOdlGYEr2c6",
        "outputId": "7b115251-afa0-4a51-f345-b5961282bf1d"
      },
      "source": [
        "# Calculating for second test.\n",
        "second_test = LogisticRegression(random_state=None)\n",
        "second_test.fit(second_X_train, second_Y_train)\n",
        "\n",
        "second_Y_result = second_test.predict(second_X_test)\n",
        "new_result = le.inverse_transform(second_Y_result)\n",
        "\n",
        "from sklearn.metrics import accuracy_score\n",
        "accuracy['Second test'] = accuracy_score(second_Y_test, second_Y_result)\n",
        "print('Accuracy for second test is '  + str(accuracy_score(second_Y_test, second_Y_result)))\n",
        "\n",
        "from sklearn.metrics import precision_score\n",
        "precision['Second test'] = precision_score(second_Y_test, second_Y_result)\n",
        "print('Precision for second test is ' + str(precision_score(second_Y_test, second_Y_result)))\n",
        "\n",
        "tn2,fp2,fn2,tp2 = confusion_matrix(second_Y_test, second_Y_result).ravel()\n",
        "print('True negative = ', tn2)\n",
        "print('False positive = ', fp2)\n",
        "print('False negative = ', fn2)\n",
        "print('True positive = ', tp2)\n",
        "unique, counts = np.unique(new_result, return_counts=True)\n",
        "dict(zip(unique, counts))"
      ],
      "execution_count": null,
      "outputs": [
        {
          "output_type": "stream",
          "text": [
            "Accuracy for second test is 1.0\n",
            "Precision for second test is 1.0\n",
            "True negative =  83\n",
            "False positive =  0\n",
            "False negative =  0\n",
            "True positive =  66\n"
          ],
          "name": "stdout"
        },
        {
          "output_type": "execute_result",
          "data": {
            "text/plain": [
              "{'R': 83, 'W': 66}"
            ]
          },
          "metadata": {
            "tags": []
          },
          "execution_count": 30
        }
      ]
    },
    {
      "cell_type": "code",
      "metadata": {
        "colab": {
          "base_uri": "https://localhost:8080/",
          "height": 295
        },
        "id": "-sziPzg369ru",
        "outputId": "d7f2daa7-9046-4224-91ea-93cb8058fb68"
      },
      "source": [
        "from sklearn.metrics import plot_confusion_matrix\n",
        "\n",
        "plot_confusion_matrix(first_test,first_X_train, first_Y_train, display_labels= ['Red', 'White'], cmap = plt.cm.PuRd)\n",
        "\n",
        "plt.title(\"Confusion Matrix of First Training Set\")\n",
        "plt.show()\n"
      ],
      "execution_count": null,
      "outputs": [
        {
          "output_type": "display_data",
          "data": {
            "image/png": "[encoded data removed]",
            "text/plain": [
              "<Figure size 432x288 with 2 Axes>"
            ]
          },
          "metadata": {
            "tags": [],
            "needs_background": "light"
          }
        }
      ]
    },
    {
      "cell_type": "code",
      "metadata": {
        "colab": {
          "base_uri": "https://localhost:8080/",
          "height": 295
        },
        "id": "A76hGGbqemPt",
        "outputId": "ff71ef36-8d29-443b-ba87-d17c6b27a23a"
      },
      "source": [
        "plot_confusion_matrix(first_test,first_X_test, first_Y_test, display_labels= ['Red', 'White'], cmap = plt.cm.PuRd)\n",
        "plt.title(\"Confusion Matrix of First Test\")\n",
        "plt.show()"
      ],
      "execution_count": null,
      "outputs": [
        {
          "output_type": "display_data",
          "data": {
            "image/png": "[encoded data removed]",
            "text/plain": [
              "<Figure size 432x288 with 2 Axes>"
            ]
          },
          "metadata": {
            "tags": [],
            "needs_background": "light"
          }
        }
      ]
    },
    {
      "cell_type": "code",
      "metadata": {
        "colab": {
          "base_uri": "https://localhost:8080/"
        },
        "id": "5h00C5-wQXLL",
        "outputId": "077bb939-c728-48b3-ed76-35a6ad582d05"
      },
      "source": [
        "\n",
        "\n",
        "new_result = le.inverse_transform(first_Y_result)\n",
        "unique, counts = np.unique(new_result, return_counts=True)\n",
        "a = dict(zip(unique, counts))\n",
        "print(a)\n",
        "\n",
        "from sklearn.metrics import accuracy_score\n",
        "accuracy['First test'] = accuracy_score(first_Y_test, first_Y_result)\n",
        "print('Accuracy for First Test is '  + str(accuracy_score(first_Y_test, first_Y_result)))\n",
        "\n",
        "from sklearn.metrics import precision_score\n",
        "precision['First test'] = precision_score(first_Y_test, first_Y_result)\n",
        "print('Precision for First Test is ' + str(precision_score(first_Y_test, first_Y_result)))\n",
        "from sklearn.metrics import classification_report\n",
        "report = classification_report(first_Y_test, first_Y_result)\n",
        "print(report)\n",
        "Specificity = tn1/(tn1+fp1)\n",
        "print(\"Specificity (True negative rate) is : {:0.2f}\".format(Specificity))\n",
        "FalsePositive1 = fp1/(tn1+fp1)\n",
        "print(\"False positive rate is : {:0.2f}\".format(FalsePositive1))\n",
        "FalseNegative1 = fn1/(fn1+tp1)\n",
        "print(\"False negative rate is : {:0.2f}\".format(FalseNegative1))"
      ],
      "execution_count": null,
      "outputs": [
        {
          "output_type": "stream",
          "text": [
            "{'R': 70, 'W': 79}\n",
            "Accuracy for First Test is 0.9932885906040269\n",
            "Precision for First Test is 0.9873417721518988\n",
            "              precision    recall  f1-score   support\n",
            "\n",
            "           0       1.00      0.99      0.99        71\n",
            "           1       0.99      1.00      0.99        78\n",
            "\n",
            "    accuracy                           0.99       149\n",
            "   macro avg       0.99      0.99      0.99       149\n",
            "weighted avg       0.99      0.99      0.99       149\n",
            "\n",
            "Specificity (True negative rate) is : 0.99\n",
            "False positive rate is : 0.01\n",
            "False negative rate is : 0.00\n"
          ],
          "name": "stdout"
        }
      ]
    },
    {
      "cell_type": "code",
      "metadata": {
        "colab": {
          "base_uri": "https://localhost:8080/",
          "height": 516
        },
        "id": "ektTFacr8ule",
        "outputId": "ed0d95be-20ad-412f-e492-150ae31a16ce"
      },
      "source": [
        "plot_confusion_matrix(second_test,second_X_test, second_Y_test, display_labels= ['Red', 'White'], cmap = plt.cm.PuRd)\n",
        "plt.title(\"Confusion Matrix of Second Test\")\n",
        "plt.show()\n",
        "\n",
        "new_result = le.inverse_transform(second_Y_result)\n",
        "unique, counts = np.unique(new_result, return_counts=True)\n",
        "a = dict(zip(unique, counts))\n",
        "print(a)\n",
        "\n",
        "\n",
        "report = classification_report(second_Y_test, second_Y_result)\n",
        "print(report)\n",
        "Specificity = tn2/(tn2+fp2)\n",
        "print(\"Specificity (True negative rate) is : {:0.2f}\".format(Specificity))\n",
        "FalsePositive2 = fp2/(tn2+fp2)\n",
        "print(\"False positive rate is : {:0.2f}\".format(FalsePositive2))\n",
        "FalseNegative2 = fn2/(fn2+tp2)\n",
        "print(\"False negative rate is : {:0.2f}\".format(FalseNegative2))"
      ],
      "execution_count": null,
      "outputs": [
        {
          "output_type": "display_data",
          "data": {
            "image/png": "[encoded data removed]",
            "text/plain": [
              "<Figure size 432x288 with 2 Axes>"
            ]
          },
          "metadata": {
            "tags": [],
            "needs_background": "light"
          }
        },
        {
          "output_type": "stream",
          "text": [
            "{'R': 83, 'W': 66}\n",
            "              precision    recall  f1-score   support\n",
            "\n",
            "           0       1.00      1.00      1.00        83\n",
            "           1       1.00      1.00      1.00        66\n",
            "\n",
            "    accuracy                           1.00       149\n",
            "   macro avg       1.00      1.00      1.00       149\n",
            "weighted avg       1.00      1.00      1.00       149\n",
            "\n",
            "Specificity (True negative rate) is : 1.00\n",
            "False positive rate is : 0.00\n",
            "False negative rate is : 0.00\n"
          ],
          "name": "stdout"
        }
      ]
    },
    {
      "cell_type": "code",
      "metadata": {
        "colab": {
          "base_uri": "https://localhost:8080/",
          "height": 295
        },
        "id": "s0BG7N9c9NQ_",
        "outputId": "15f00904-45a8-4985-e132-d8ee587ade42"
      },
      "source": [
        "accuracy['First training set'] = accuracy_score(first_Y_train,result)\n",
        "precision['First training set'] = precision_score(first_Y_train,result)\n",
        "\n",
        "Tests = ['First training set', 'First test', 'Second test']\n",
        "Accuracies = [accuracy['First training set'],accuracy['First test'],accuracy['Second test']]\n",
        "\n",
        "plt.bar(Tests, Accuracies)\n",
        "plt.title('Comparison on accuracies between tests')\n",
        "plt.xlabel('Tests')\n",
        "plt.ylabel('Accuracy')\n",
        "\n",
        "#plt.ylim(0.60, 1.05)\n",
        "\n",
        "plt.show()"
      ],
      "execution_count": null,
      "outputs": [
        {
          "output_type": "display_data",
          "data": {
            "image/png": "[encoded data removed]",
            "text/plain": [
              "<Figure size 432x288 with 1 Axes>"
            ]
          },
          "metadata": {
            "tags": [],
            "needs_background": "light"
          }
        }
      ]
    },
    {
      "cell_type": "code",
      "metadata": {
        "colab": {
          "base_uri": "https://localhost:8080/",
          "height": 295
        },
        "id": "V_B18wid_lOB",
        "outputId": "0b4728ba-d8ef-49d0-98a7-c44be3b184d5"
      },
      "source": [
        "\n",
        "\n",
        "Tests = ['First training set', 'First test', 'Second test']\n",
        "Precisions = [precision['First training set'],precision['First test'],precision['Second test']]\n",
        "\n",
        "plt.bar(Tests, Precisions)\n",
        "plt.title('Comparison on precision between tests')\n",
        "plt.xlabel('Tests')\n",
        "plt.ylabel('Precision')\n",
        "\n",
        "\n",
        "plt.show()"
      ],
      "execution_count": null,
      "outputs": [
        {
          "output_type": "display_data",
          "data": {
            "image/png": "[encoded data removed]",
            "text/plain": [
              "<Figure size 432x288 with 1 Axes>"
            ]
          },
          "metadata": {
            "tags": [],
            "needs_background": "light"
          }
        }
      ]
    },
    {
      "cell_type": "code",
      "metadata": {
        "colab": {
          "base_uri": "https://localhost:8080/",
          "height": 444
        },
        "id": "ey1xLgpv68Ua",
        "outputId": "e8daca10-ee12-402e-c74e-2f60083835a7"
      },
      "source": [
        "figure(figsize=(8, 6), dpi=80)\n",
        "\n",
        "Tests = ['p-value benchmarks', 'First training set', 'First test', 'Second test']\n",
        "FalsePositives = [0.05/3, FalsePositive3,FalsePositive1, FalsePositive2]\n",
        "\n",
        "plt.bar(Tests, FalsePositives)\n",
        "plt.title('Comparison on false positive rate with p-value benchmarks')\n",
        "plt.xlabel('Elements')\n",
        "plt.ylabel('False positive rate')\n",
        "\n",
        "plt.ylim(0.0,0.15)\n",
        "\n",
        "plt.show()"
      ],
      "execution_count": null,
      "outputs": [
        {
          "output_type": "display_data",
          "data": {
            "image/png": "[encoded data removed]",
            "text/plain": [
              "<Figure size 640x480 with 1 Axes>"
            ]
          },
          "metadata": {
            "tags": [],
            "needs_background": "light"
          }
        }
      ]
    },
    {
      "cell_type": "code",
      "metadata": {
        "colab": {
          "base_uri": "https://localhost:8080/",
          "height": 295
        },
        "id": "euvskmrN7Noj",
        "outputId": "bb692079-0735-4b1a-e389-db9e4c8455ca"
      },
      "source": [
        ""
      ],
      "execution_count": null,
      "outputs": [
        {
          "output_type": "display_data",
          "data": {
            "image/png": "[encoded data removed]",
            "text/plain": [
              "<Figure size 432x288 with 1 Axes>"
            ]
          },
          "metadata": {
            "tags": [],
            "needs_background": "light"
          }
        }
      ]
    },
    {
      "cell_type": "code",
      "metadata": {
        "colab": {
          "base_uri": "https://localhost:8080/"
        },
        "id": "2wC5GhWDd8Xx",
        "outputId": "8a598e8a-7338-48eb-eaf8-0751064c1c32"
      },
      "source": [
        ""
      ],
      "execution_count": null,
      "outputs": [
        {
          "output_type": "stream",
          "text": [
            "True negative =  70\n",
            "False positive =  1\n",
            "False negative =  0\n",
            "True positive =  78\n"
          ],
          "name": "stdout"
        },
        {
          "output_type": "execute_result",
          "data": {
            "text/plain": [
              "{0: 70, 1: 79}"
            ]
          },
          "metadata": {
            "tags": []
          },
          "execution_count": 15
        }
      ]
    }
  ]
}